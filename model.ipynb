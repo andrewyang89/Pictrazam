{
 "cells": [
  {
   "cell_type": "code",
   "execution_count": 21,
   "metadata": {},
   "outputs": [],
   "source": [
    "import mynn\n",
    "from mynn.layers.dense import dense\n",
    "from mynn.optimizers.sgd import SGD\n",
    "from mygrad.nnet.losses.margin_ranking_loss import margin_ranking_loss\n",
    "import mygrad as mg\n",
    "from noggin import create_plot\n",
    "import numpy as np"
   ]
  },
  {
   "cell_type": "code",
   "execution_count": 40,
   "metadata": {},
   "outputs": [],
   "source": [
    "class Img2Caption:\n",
    "    def __init__(self, dim_input: int, dim_output: int):\n",
    "        \"\"\"\n",
    "        Initializes the Img2Caption Linear Encoder\n",
    "        Parameters\n",
    "        ----------\n",
    "        dim_input the dimensions of the input descriptor\n",
    "        dim_output the dimensions of the encoded value\n",
    "        \"\"\"\n",
    "        self.layer = dense(dim_input, dim_output)\n",
    "        \n",
    "    def __call__(self, descriptor):\n",
    "        \"\"\"\n",
    "        Runs the forward pass of the model\n",
    "        Parameters\n",
    "        ----------\n",
    "        descriptor the descriptor vector to be processed\n",
    "\n",
    "        Returns\n",
    "        -------\n",
    "        The shape-(dim_output) embedding\n",
    "\n",
    "        \"\"\"\n",
    "        return self.layer(descriptor)\n",
    "    \n",
    "    @property\n",
    "    def parameters(self):\n",
    "        \"\"\"\n",
    "        Returns the parameters of the encoding layer\n",
    "        Returns\n",
    "        -------\n",
    "        The parameters of the encoding layer\n",
    "        \"\"\"\n",
    "        return self.layer.parameters"
   ]
  },
  {
   "cell_type": "code",
   "execution_count": 23,
   "outputs": [],
   "source": [
    "model = Img2Caption(512, 50)\n",
    "lr = 1e-3\n",
    "momentum = 0.9\n",
    "optim = SGD(model.parameters, learning_rate = lr, momentum = momentum)\n"
   ],
   "metadata": {
    "collapsed": false,
    "pycharm": {
     "name": "#%%\n"
    }
   }
  },
  {
   "cell_type": "code",
   "execution_count": 24,
   "outputs": [
    {
     "name": "stderr",
     "output_type": "stream",
     "text": [
      "C:\\Users\\andre\\Anaconda3\\envs\\week3\\lib\\site-packages\\noggin\\plotter.py:364: UserWarning: Live plotting is not supported when matplotlib uses the 'module://ipykernel.pylab.backend_inline'\n",
      "backend. Instead, use the 'nbAgg' backend.\n",
      "\n",
      "In a Jupyter notebook, this can be activated using the cell magic:\n",
      "   %matplotlib notebook.\n",
      "  warn(cleandoc(_inline_msg.format(self._backend)))\n"
     ]
    },
    {
     "data": {
      "text/plain": "<Figure size 432x288 with 1 Axes>",
      "image/png": "[encoded data removed]"
     },
     "metadata": {
      "needs_background": "light"
     },
     "output_type": "display_data"
    }
   ],
   "source": [
    "plotter, figs, axes = create_plot(metrics=[\"loss\"])"
   ],
   "metadata": {
    "collapsed": false,
    "pycharm": {
     "name": "#%%\n"
    }
   }
  },
  {
   "cell_type": "code",
   "execution_count": 20,
   "outputs": [
    {
     "ename": "TypeError",
     "evalue": "'builtin_function_or_method' object cannot be interpreted as an integer",
     "output_type": "error",
     "traceback": [
      "\u001B[1;31m---------------------------------------------------------------------------\u001B[0m",
      "\u001B[1;31mTypeError\u001B[0m                                 Traceback (most recent call last)",
      "\u001B[1;32m<ipython-input-20-97f095f3e584>\u001B[0m in \u001B[0;36m<module>\u001B[1;34m\u001B[0m\n\u001B[0;32m      3\u001B[0m \u001B[1;33m\u001B[0m\u001B[0m\n\u001B[0;32m      4\u001B[0m \u001B[1;32mfor\u001B[0m \u001B[0mep\u001B[0m \u001B[1;32min\u001B[0m \u001B[0mrange\u001B[0m\u001B[1;33m(\u001B[0m\u001B[0mepochs\u001B[0m\u001B[1;33m)\u001B[0m\u001B[1;33m:\u001B[0m\u001B[1;33m\u001B[0m\u001B[1;33m\u001B[0m\u001B[0m\n\u001B[1;32m----> 5\u001B[1;33m     \u001B[1;32mfor\u001B[0m \u001B[0mbatch\u001B[0m \u001B[1;32min\u001B[0m \u001B[0mrange\u001B[0m\u001B[1;33m(\u001B[0m\u001B[0mlen\u001B[0m\u001B[1;33m)\u001B[0m\u001B[1;33m:\u001B[0m\u001B[1;33m\u001B[0m\u001B[1;33m\u001B[0m\u001B[0m\n\u001B[0m\u001B[0;32m      6\u001B[0m \u001B[1;33m\u001B[0m\u001B[0m\n\u001B[0;32m      7\u001B[0m         \u001B[0md_img\u001B[0m\u001B[1;33m,\u001B[0m \u001B[0mw_good\u001B[0m\u001B[1;33m,\u001B[0m \u001B[0md_bad\u001B[0m \u001B[1;33m=\u001B[0m \u001B[0mrohan_func\u001B[0m\u001B[1;33m(\u001B[0m\u001B[1;33m)\u001B[0m\u001B[1;33m\u001B[0m\u001B[1;33m\u001B[0m\u001B[0m\n",
      "\u001B[1;31mTypeError\u001B[0m: 'builtin_function_or_method' object cannot be interpreted as an integer"
     ]
    }
   ],
   "source": [
    "epochs = 5\n",
    "batch_size = 32\n",
    "train, validation = rohan_func() # List(Tuple[]), Shape (N,)\n",
    "for ep in range(epochs):\n",
    "    for batch in range(len() // batch_size):\n",
    "\n",
    "\n",
    "        d_img = train[::, 0]\n",
    "        w_good = train[:: 1]\n",
    "        d_bad = train[::, 2]\n",
    "\n",
    "        w_bad = model(d_bad) # Shape (32, 50)\n",
    "        w_img = model(d_img) # Shape (32, 50)\n",
    "\n",
    "        dot_good = mg.sum(w_img * w_good, axis=1) # Shape (32,)\n",
    "        dot_bad = mg.sum(w_img * w_bad, axis=1) # Shape (32,)\n",
    "        loss = margin_ranking_loss(dot_good, dot_bad, margin=0.1)\n",
    "\n",
    "        loss.backward()\n",
    "\n",
    "        optim.step()\n",
    "\n",
    "        loss.null_gradients()\n",
    "\n",
    "        plotter.set_train_batch(metrics={\"loss\": loss}, batch_size=batch_size)\n",
    "\n",
    "    plotter.set_train_epoch()\n",
    "\n"
   ],
   "metadata": {
    "collapsed": false,
    "pycharm": {
     "name": "#%%\n"
    }
   }
  }
 ],
 "metadata": {
  "kernelspec": {
   "display_name": "Python week3",
   "language": "python",
   "name": "myenv"
  },
  "language_info": {
   "codemirror_mode": {
    "name": "ipython",
    "version": 3
   },
   "file_extension": ".py",
   "mimetype": "text/x-python",
   "name": "python",
   "nbconvert_exporter": "python",
   "pygments_lexer": "ipython3",
   "version": "3.8.3"
  }
 },
 "nbformat": 4,
 "nbformat_minor": 4
}